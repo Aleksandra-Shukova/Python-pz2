{
  "nbformat": 4,
  "nbformat_minor": 0,
  "metadata": {
    "colab": {
      "provenance": [],
      "authorship_tag": "ABX9TyOciL9QFnR0BWjq/3wP1VJ8",
      "include_colab_link": true
    },
    "kernelspec": {
      "name": "python3",
      "display_name": "Python 3"
    },
    "language_info": {
      "name": "python"
    }
  },
  "cells": [
    {
      "cell_type": "markdown",
      "metadata": {
        "id": "view-in-github",
        "colab_type": "text"
      },
      "source": [
        "<a href=\"https://colab.research.google.com/github/Aleksandra-Shukova/Python-pz2/blob/main/practic2.ipynb\" target=\"_parent\"><img src=\"https://colab.research.google.com/assets/colab-badge.svg\" alt=\"Open In Colab\"/></a>"
      ]
    },
    {
      "cell_type": "markdown",
      "source": [
        "\n",
        "Ai learning:python\\\n",
        "practic 2 dz\n",
        "\n",
        "Написать программу для подсчета частоты слов в тексте\n",
        "\n",
        "Программа должна:\n",
        "\n",
        "- читать переданный в качестве параметра файл по строкам\n",
        "- выделять в качестве слов последовательность символов, которая отделена пробелами, табуляциями или переводом на новую строку\n",
        "- написать функцию которая разбивает строку на слова и возвращает список\n",
        "- подсчитывать сколько раз в программе встречается каждое слово\n",
        "- вернуть dictionary, которое содержит, найденные слова и частоты с которыми они встречаются\n",
        "\n",
        "Задание по вариантам:\n",
        "- В1. Добавить функцию для подсчета числа функций в программе на python\n",
        " - *Добавить функцию для получения списка имен функций в программе на python\n",
        " - **Добавить функцию для провеки имен функций на соответствие PEP8\n",
        "- В2. Добавить функцию для подсчета числа классов в программе на python\n",
        " - *Добавить функцию для получения списка имен классов в программе на python\n",
        " - **Добавить функцию для провеки имен классов на соответствие PEP8\n",
        "- В3. Добавить функцию для подсчета числа импортируемых библиотек в программе на python\n",
        " - *Добавить функцию для получения списка имен импортируемых библиотек в программе на python"
      ],
      "metadata": {
        "id": "F0WN8oSiKNvu"
      }
    },
    {
      "cell_type": "markdown",
      "source": [
        "Выводы:\n",
        "- Первая часть программы - да.\n",
        "- Задание по вариантам, я взял про функции.\n",
        "- Посчитал количество функций\n",
        "(результат с ошибкой)\n",
        "- Кое-как вывел их имена\n",
        "\n",
        "программа не различает функции которые закомментированы,\n",
        "Можно написать доп.Функцию, которая удаляет комментарии из файла, например:\n",
        "\n",
        "    Прочитать его большим куском текста\n",
        "    Создать list с помощью .split(' ')\n",
        "    В цикле\n",
        "        Создать флаг true\n",
        "        Если это ''' или \"\"\"\n",
        "            Поменять значение флага\n",
        "        Если флаг true\n",
        "            Записать в новый файл\n",
        "    Вернуть новый файл\n",
        "\n",
        "\n",
        "Когда начнется комментарий, он начнет игнорировать элементы, получится файл где их нет.\n",
        "Но могут возникнуть проблемы что \"\"\" не отделены пробелом от текста, или склеились с предыдущим элементом через \\n"
      ],
      "metadata": {
        "id": "NkFsbpUUsHik"
      }
    },
    {
      "cell_type": "code",
      "execution_count": null,
      "metadata": {
        "colab": {
          "base_uri": "https://localhost:8080/"
        },
        "id": "xyXx1XbGnmQG",
        "outputId": "9768c870-811b-47b7-f44d-20cb8b11f89b"
      },
      "outputs": [
        {
          "output_type": "stream",
          "name": "stdout",
          "text": [
            "Now the file has text!\n",
            "\tBy the way\n",
            "There are a lot of strings\n"
          ]
        }
      ],
      "source": [
        "\n",
        "'''\n",
        "while i havent mastered colab notebook,\n",
        "I dk how to add my own files into colab,\n",
        "So i had to create file in a directory\n",
        "Of my programm.\n",
        "'''\n",
        "\n",
        "f = open(\"myFile.txt\", \"w\") #w rewrite, a write to end\n",
        "f.write('''Now the file has text!\n",
        "\\tBy the way\\nThere are a lot of strings''')\n",
        "f.close()\n",
        "\n",
        "#open and read the file after the appending:\n",
        "f = open(\"myFile.txt\", \"r\")\n",
        "print(f.read())\n",
        "f.close()"
      ]
    },
    {
      "cell_type": "markdown",
      "source": [
        "Часть 1\n",
        "\n",
        "Подсчет слов в тексте"
      ],
      "metadata": {
        "id": "fh0KQpe7XYo5"
      }
    },
    {
      "cell_type": "code",
      "source": [
        "import os\n",
        "#i dk what 'import os' does,\n",
        "#but it is for open file\n",
        "\n",
        "#fancy way to check if file opened\n",
        "# returns true and false\n",
        "#print( os.path.exists(\"myFile.txt\") )\n",
        "#print( os.path.exists(\"myFile2.txt\") )\n",
        "\n",
        "#fileName = input(\"path to file:\")\n",
        "fileName = \"myFile.txt\"\n",
        "\n",
        "#does it exists?\n",
        "def myRead(file_name):\n",
        "    '''reads file as one big text, return text'''\n",
        "    xMyText = ''\n",
        "    if not os.path.exists(file_name):\n",
        "        print(\"in myRead:there are no such file in path\")\n",
        "    else:\n",
        "        print(\"path to file:ok\")\n",
        "        xfile = open(file_name, \"r\")\n",
        "        xMyText = xfile.read()\n",
        "        xfile.close()\n",
        "    return xMyText\n",
        "\n",
        "'''because text.split(' ') dont see \\t\n",
        "And file can have different number of spaces\n",
        "def myReplaceTab(xText):\n",
        "    if not xText=='':\n",
        "        #replace \\t for 4spaces\n",
        "        return xText.replace('\\t', ' '*4)\n",
        "    else:\n",
        "        #keep it as it was\n",
        "        print(\"in myReplaceTab: file was empty\")\n",
        "        return ''\n",
        "I have to write function to replace all: n t '_'*n\n",
        "'''\n",
        "\n",
        "def myReplace_all(xText):\n",
        "    '''replace t, n, '_'*n in text for '_' and return text'''\n",
        "    if not xText=='':\n",
        "        #replace \\t & \\n for Space\n",
        "        xText = xText.replace('\\t', ' ')\n",
        "        xText = xText.replace('\\n', ' ')\n",
        "        # would be optimal to add buffer\n",
        "        # to reduce number of replaces\n",
        "        #while not xText==xText.replace(' '*2, ' '):\n",
        "        #    xText = xText.replace(' '*2, ' ')\n",
        "        xbuff = xText.replace(' '*2, ' ')\n",
        "        while not len(xText)==len(xbuff):\n",
        "            xText = xbuff\n",
        "            xbuff = xText.replace(' '*2, ' ')\n",
        "        return xText\n",
        "    else:\n",
        "        #keep it as it was\n",
        "        print(\"in myReplace_all: file was empty\")\n",
        "        return ''\n",
        "\n",
        "def myMakeList(xText='', x=''):\n",
        "    '''creates list from text,\n",
        "and split it by requared symbol,\n",
        "return list'''\n",
        "    if xText=='' or x=='':\n",
        "        print(\"in myMakeList: empty arguments\")\n",
        "        return ['']\n",
        "    else:\n",
        "        return xText.split(x)\n",
        "\n",
        "def myMakeDictionary(xList):\n",
        "    '''creates dictionary from list, return dictionary'''\n",
        "    xDictionary = {'':0}\n",
        "    if xList == ['']:\n",
        "        print(\"in myMakeDictionary: empty list\")\n",
        "        return xDictionary\n",
        "    else:\n",
        "        for i in range( len(xList) ):\n",
        "            xkey = xList[i]\n",
        "            if xkey not in xDictionary.keys():\n",
        "                xDictionary[xkey] = 1\n",
        "            else:\n",
        "                xDictionary[xkey] += 1\n",
        "    return xDictionary\n",
        "myText = myRead(fileName)\n",
        "myText = myReplace_all(myText) #t, n, '_'*n\n",
        "\n",
        "myList = myMakeList(myText, ' ')\n",
        "#print(len(myList))\n",
        "myDictionary = myMakeDictionary(myList)\n",
        "\n",
        "print(myDictionary)\n",
        "\n",
        "print(myList)"
      ],
      "metadata": {
        "colab": {
          "base_uri": "https://localhost:8080/"
        },
        "id": "zZHPee3soR04",
        "outputId": "acfb2f27-2035-4a62-cd09-dff61e4dbddb"
      },
      "execution_count": null,
      "outputs": [
        {
          "output_type": "stream",
          "name": "stdout",
          "text": [
            "path to file:ok\n",
            "{'': 0, 'Now': 1, 'the': 2, 'file': 1, 'has': 1, 'text!': 1, 'By': 1, 'way': 1, 'There': 1, 'are': 1, 'a': 1, 'lot': 1, 'of': 1, 'strings': 1}\n",
            "['Now', 'the', 'file', 'has', 'text!', 'By', 'the', 'way', 'There', 'are', 'a', 'lot', 'of', 'strings']\n"
          ]
        }
      ]
    },
    {
      "cell_type": "markdown",
      "source": [
        "Задание по вариантам:\n",
        "Классы на питоне я создавать не умею, а как посчитать число библиотек мне непонятно, ведь оно не равно числу слов import\n",
        "\n",
        "Поэтому я посчитаю число функций:\n",
        "Создам файл в котором эти функции есть.\n",
        "\n",
        "А потом посчитаю их количество и выведу имена, ну или то что есть"
      ],
      "metadata": {
        "id": "cY4VoEQccbT2"
      }
    },
    {
      "cell_type": "code",
      "source": [
        "f = open(\"myFile2.txt\", \"w\") #w rewrite, a write to end\n",
        "f.write(\n",
        "\"\"\"\n",
        "import os\n",
        "#i dk what 'import os' does,\n",
        "#but it is for open file\n",
        "\n",
        "#fancy way to check if file opened\n",
        "# returns true and false\n",
        "#print( os.path.exists(\"myFile.txt\") )\n",
        "#print( os.path.exists(\"myFile2.txt\") )\n",
        "\n",
        "#fileName = input(\"path to file:\")\n",
        "fileName = \"myFile.txt\"\n",
        "\n",
        "#does it exists?\n",
        "def myRead(file_name):\n",
        "    '''reads file as one big text, return text'''\n",
        "    xMyText = ''\n",
        "    if not os.path.exists(file_name):\n",
        "        print(\"in myRead:there are no such file in path\")\n",
        "    else:\n",
        "        print(\"path to file:ok\")\n",
        "        xfile = open(file_name, \"r\")\n",
        "        xMyText = xfile.read()\n",
        "        xfile.close()\n",
        "    return xMyText\n",
        "\n",
        "'''because text.split(' ') dont see \\t\n",
        "And file can have different number of spaces\n",
        "def myReplaceTab(xText):\n",
        "    if not xText=='':\n",
        "        #replace \\t for 4spaces\n",
        "        return xText.replace('\\t', ' '*4)\n",
        "    else:\n",
        "        #keep it as it was\n",
        "        print(\"in myReplaceTab: file was empty\")\n",
        "        return ''\n",
        "I have to write function to replace all: n t '_'*n\n",
        "'''\n",
        "\n",
        "def myReplace_all(xText):\n",
        "    '''replace t, n, '_'*n in text for '_' and return text'''\n",
        "    if not xText=='':\n",
        "        #replace \\t & \\n for Space\n",
        "        xText = xText.replace('\\t', ' ')\n",
        "        xText = xText.replace('\\n', ' ')\n",
        "        # would be optimal to add buffer\n",
        "        # to reduce number of replaces\n",
        "        #while not xText==xText.replace(' '*2, ' '):\n",
        "        #    xText = xText.replace(' '*2, ' ')\n",
        "        xbuff = xText.replace(' '*2, ' ')\n",
        "        while not len(xText)==len(xbuff):\n",
        "            xText = xbuff\n",
        "            xbuff = xText.replace(' '*2, ' ')\n",
        "        return xText\n",
        "    else:\n",
        "        #keep it as it was\n",
        "        print(\"in myReplace_all: file was empty\")\n",
        "        return ''\n",
        "\n",
        "def myMakeList(xText='', x=''):\n",
        "    '''creates list from text,\n",
        "and split it by requared symbol,\n",
        "return list'''\n",
        "    if xText=='' or x=='':\n",
        "        print(\"in myMakeList: empty arguments\")\n",
        "        return ['']\n",
        "    else:\n",
        "        return xText.split(x)\n",
        "\n",
        "def myMakeDictionary(xList):\n",
        "    '''creates dictionary from list, return dictionary'''\n",
        "    xDictionary = {'':0}\n",
        "    if xList == ['']:\n",
        "        print(\"in myMakeDictionary: empty list\")\n",
        "        return xDictionary\n",
        "    else:\n",
        "        for i in range( len(xList) ):\n",
        "            xkey = xList[i]\n",
        "            if xkey not in xDictionary.keys():\n",
        "                xDictionary[xkey] = 1\n",
        "            else:\n",
        "                xDictionary[xkey] += 1\n",
        "    return xDictionary\n",
        "myText = myRead(fileName)\n",
        "myText = myReplace_all(myText) #t, n, '_'*n\n",
        "\n",
        "myList = myMakeList(myText, ' ')\n",
        "#print(len(myList))\n",
        "myDictionary = myMakeDictionary(myList)\n",
        "\n",
        "print(myDictionary)\n",
        "\n",
        "print(myList)\n",
        "\"\"\")\n",
        "f.close()"
      ],
      "metadata": {
        "id": "ci5fMfVemR6v"
      },
      "execution_count": null,
      "outputs": []
    },
    {
      "cell_type": "code",
      "source": [
        "'''\n",
        "i decided to read file by lines,\n",
        "and find number of lines that starts with 'def'\n",
        "'''\n",
        "\n",
        "#import os\n",
        "fileName = \"myFile2.txt\"\n",
        "\n",
        "#does it exists?\n",
        "def myReadlines(file_name):\n",
        "    '''reads file as one big list, return list'''\n",
        "    xMyList_str = [''] #empty list\n",
        "    if not os.path.exists(file_name):\n",
        "        print(\"in myReadlines:there are no such file in path\")\n",
        "    else:\n",
        "        print(\"path to file:ok\")\n",
        "        xfile = open(file_name, \"r\")\n",
        "        xMyList_str = xfile.readlines()\n",
        "        xfile.close()\n",
        "    return xMyList_str\n",
        "\n",
        "#print list\n",
        "def myPrint(xSomething):\n",
        "    '''prints something'''\n",
        "    if type(xSomething) == list:\n",
        "        for i in range( len(xSomething) ):\n",
        "            print( xSomething[i] )\n",
        "\n",
        "def myFunc(xList):\n",
        "    '''saves lines starts with 'def' '''\n",
        "    xNewList = ['']\n",
        "    for i in range( len(xList) ):\n",
        "        if 'def' == xList[i].split(' ')[0]:\n",
        "            xNewList.append(xList[i])\n",
        "    return xNewList\n",
        "\n",
        "myList_str = myReadlines(fileName)\n",
        "myList_str = myFunc(myList_str)\n",
        "\n",
        "print(\"number of funcs: \", len(myList_str) )\n",
        "myPrint( myList_str )"
      ],
      "metadata": {
        "colab": {
          "base_uri": "https://localhost:8080/"
        },
        "id": "22fXeSQYc4Gc",
        "outputId": "4dd61295-de1b-4505-88e4-227e604e5a30"
      },
      "execution_count": null,
      "outputs": [
        {
          "output_type": "stream",
          "name": "stdout",
          "text": [
            "path to file:ok\n",
            "number of funcs:  6\n",
            "\n",
            "def myRead(file_name):\n",
            "\n",
            "def myReplaceTab(xText):\n",
            "\n",
            "def myReplace_all(xText):\n",
            "\n",
            "def myMakeList(xText='', x=''):\n",
            "\n",
            "def myMakeDictionary(xList):\n",
            "\n"
          ]
        }
      ]
    },
    {
      "cell_type": "markdown",
      "source": [
        "Here were some experiments with Dictionary, it has nothing to do with homework"
      ],
      "metadata": {
        "id": "S81otj3XQ_X1"
      }
    },
    {
      "cell_type": "code",
      "source": [
        "myList = ['one','cat','bird','four']\n",
        "\n",
        "print( type(myList) )\n",
        "print( list==type(myList) )\n",
        "\n",
        "print( myList[0] )"
      ],
      "metadata": {
        "colab": {
          "base_uri": "https://localhost:8080/"
        },
        "id": "UAF27biJf3AA",
        "outputId": "d403303b-222d-4cc2-9205-b9f1e747802c"
      },
      "execution_count": null,
      "outputs": [
        {
          "output_type": "stream",
          "name": "stdout",
          "text": [
            "<class 'list'>\n",
            "True\n",
            "one\n"
          ]
        }
      ]
    },
    {
      "cell_type": "code",
      "source": [
        "myDictionary = {'cat':1,'dog':2}\n",
        "print(myDictionary)\n",
        "print(myDictionary['cat'])\n",
        "\n",
        "#eval doesnt create Dictionary\n",
        "# it is reads text as code\n",
        "# and execute\n",
        "#myString = \"it is rain again\"\n",
        "#myDictionary = eval(myString)\n",
        "#print(myDictionary)"
      ],
      "metadata": {
        "colab": {
          "base_uri": "https://localhost:8080/"
        },
        "id": "zlzcBhuo1T5l",
        "outputId": "b36225e4-3b27-40b2-a7db-a6f78d65f0ac"
      },
      "execution_count": null,
      "outputs": [
        {
          "output_type": "stream",
          "name": "stdout",
          "text": [
            "{'cat': 1, 'dog': 2}\n",
            "1\n"
          ]
        }
      ]
    }
  ]
}